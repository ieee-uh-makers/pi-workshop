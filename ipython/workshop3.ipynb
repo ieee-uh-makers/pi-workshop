{
 "cells": [
  {
   "cell_type": "code",
   "execution_count": 1,
   "metadata": {},
   "outputs": [
    {
     "name": "stdout",
     "output_type": "stream",
     "text": [
      "True\n"
     ]
    }
   ],
   "source": [
    "if True:\n",
    "    print(\"True\")"
   ]
  },
  {
   "cell_type": "code",
   "execution_count": 2,
   "metadata": {},
   "outputs": [],
   "source": [
    "if False:\n",
    "    print(\"False\")"
   ]
  },
  {
   "cell_type": "code",
   "execution_count": 3,
   "metadata": {},
   "outputs": [
    {
     "name": "stdout",
     "output_type": "stream",
     "text": [
      "True or False\n"
     ]
    }
   ],
   "source": [
    "if True and False:\n",
    "    print(\"True and False\")\n",
    "if True or False:\n",
    "    print(\"True or False\")"
   ]
  },
  {
   "cell_type": "code",
   "execution_count": 6,
   "metadata": {},
   "outputs": [
    {
     "name": "stdout",
     "output_type": "stream",
     "text": [
      "(True or False) and True\n",
      "This is the same as True and True\n"
     ]
    }
   ],
   "source": [
    "if (True or False) and True:\n",
    "    print(\"(True or False) and True\")\n",
    "    print(\"This is the same as True and True\")"
   ]
  },
  {
   "cell_type": "code",
   "execution_count": 21,
   "metadata": {},
   "outputs": [],
   "source": [
    "aString = \"This is a string\"\n",
    "anInteger = 3\n",
    "aBoolean = True\n",
    "aDouble = 3.1495\n",
    "aList = [1, 2, 3, 4, 5]\n",
    "aDict = {\"key\": \"value\"}\n",
    "aTuple = (0, 1, 2, 3, 4)"
   ]
  },
  {
   "cell_type": "code",
   "execution_count": 8,
   "metadata": {},
   "outputs": [
    {
     "name": "stdout",
     "output_type": "stream",
     "text": [
      "True, True\n"
     ]
    }
   ],
   "source": [
    "if True:\n",
    "    if True:\n",
    "        print(\"True, True\")\n",
    "    else:\n",
    "        print(\"True, False\")\n",
    "else:\n",
    "    if False:\n",
    "        print(\"False, True\")\n",
    "    else:\n",
    "        print(\"False, False\")"
   ]
  },
  {
   "cell_type": "code",
   "execution_count": 9,
   "metadata": {},
   "outputs": [
    {
     "name": "stdout",
     "output_type": "stream",
     "text": [
      "one\n",
      "two\n",
      "three\n",
      "four\n",
      "five\n"
     ]
    }
   ],
   "source": [
    "aDict = {\"uno\": \"one\", \"dos\": \"two\", \"tres\": \"three\", \"quatro\":\"four\", \"cinco\":\"five\"}\n",
    "\n",
    "print(aDict[\"uno\"])\n",
    "print(aDict[\"dos\"])\n",
    "print(aDict[\"tres\"])\n",
    "print(aDict[\"quatro\"])\n",
    "print(aDict[\"cinco\"])"
   ]
  },
  {
   "cell_type": "code",
   "execution_count": 17,
   "metadata": {},
   "outputs": [
    {
     "name": "stdout",
     "output_type": "stream",
     "text": [
      "Length of List: 4\n",
      "\n",
      "i\n",
      "like\n",
      "raspberry\n",
      "pi\n",
      "i like raspberry pi !\n"
     ]
    }
   ],
   "source": [
    "aList = [\"i\", \"like\", \"raspberry\", \"pi\"]\n",
    "print(\"Length of List: %d\\n\" % len(aList))\n",
    "print(aList[0])\n",
    "print(aList[1])\n",
    "print(aList[2])\n",
    "print(aList[3])\n",
    "\n",
    "aList.append(\"!\")\n",
    "print(\" \".join(aList))"
   ]
  },
  {
   "cell_type": "code",
   "execution_count": 24,
   "metadata": {},
   "outputs": [
    {
     "name": "stdout",
     "output_type": "stream",
     "text": [
      "Loop!\n",
      "Loop!\n",
      "Loop!\n",
      "This statement is not in the loop!\n"
     ]
    }
   ],
   "source": [
    "i = 0\n",
    "\n",
    "while i < 3:\n",
    "    print(\"Loop!\")\n",
    "    \n",
    "    # This is the same as i = i + 1\n",
    "    i += 1\n",
    "\n",
    "print(\"This statement is not in the loop!\")"
   ]
  },
  {
   "cell_type": "code",
   "execution_count": 18,
   "metadata": {},
   "outputs": [
    {
     "name": "stdout",
     "output_type": "stream",
     "text": [
      "i\n",
      "like\n",
      "raspberry\n",
      "pi\n"
     ]
    }
   ],
   "source": [
    "aList = [\"i\", \"like\", \"raspberry\", \"pi\"]\n",
    "\n",
    "for item in aList:\n",
    "    print(item)"
   ]
  },
  {
   "cell_type": "code",
   "execution_count": 20,
   "metadata": {},
   "outputs": [
    {
     "name": "stdout",
     "output_type": "stream",
     "text": [
      "Key(uno): Value(one)\n",
      "Key(dos): Value(two)\n",
      "Key(tres): Value(three)\n",
      "Key(quatro): Value(four)\n",
      "Key(cinco): Value(five)\n"
     ]
    }
   ],
   "source": [
    "aDict = {\"uno\": \"one\", \"dos\": \"two\", \"tres\": \"three\", \"quatro\":\"four\", \"cinco\":\"five\"}\n",
    "for key in aDict:\n",
    "    print(\"Key(%s): Value(%s)\" % (key, aDict[key]))"
   ]
  },
  {
   "cell_type": "code",
   "execution_count": 32,
   "metadata": {},
   "outputs": [
    {
     "data": {
      "text/plain": [
       "False"
      ]
     },
     "execution_count": 32,
     "metadata": {},
     "output_type": "execute_result"
    }
   ],
   "source": [
    "\"one\" in aDict.values()"
   ]
  },
  {
   "cell_type": "code",
   "execution_count": null,
   "metadata": {},
   "outputs": [],
   "source": []
  }
 ],
 "metadata": {
  "kernelspec": {
   "display_name": "Python 3",
   "language": "python",
   "name": "python3"
  },
  "language_info": {
   "codemirror_mode": {
    "name": "ipython",
    "version": 3
   },
   "file_extension": ".py",
   "mimetype": "text/x-python",
   "name": "python",
   "nbconvert_exporter": "python",
   "pygments_lexer": "ipython3",
   "version": "3.7.1"
  }
 },
 "nbformat": 4,
 "nbformat_minor": 2
}
